{
 "cells": [
  {
   "cell_type": "code",
   "execution_count": 4,
   "id": "d5c6401b",
   "metadata": {},
   "outputs": [],
   "source": [
    "import os\n",
    "import rioxarray\n",
    "import xarray as xr\n",
    "import geopandas as gpd\n",
    "import pandas as pd\n",
    "import numpy as np\n",
    "import os.path\n",
    "from pathlib import Path\n",
    "import csv\n",
    "import math\n",
    "from osgeo import gdal, ogr, osr, gdalconst\n"
   ]
  },
  {
   "cell_type": "markdown",
   "id": "d484dbb2",
   "metadata": {},
   "source": [
    "A good comparison piece would be: https://search.geoscience.nsw.gov.au/product/9233/7564550 in the Curnamona"
   ]
  },
  {
   "cell_type": "markdown",
   "id": "79a61dcb",
   "metadata": {},
   "source": [
    "here's a starting point comparison https://github.com/chudasama-bijal/QGIS-Plugin-Weights-of-Evidence-Model"
   ]
  },
  {
   "cell_type": "markdown",
   "id": "def48afe",
   "metadata": {},
   "source": [
    "Get training data vector data - 1s"
   ]
  },
  {
   "cell_type": "markdown",
   "id": "5b2c9f80",
   "metadata": {},
   "source": [
    "Choose mask layer if desired"
   ]
  },
  {
   "cell_type": "markdown",
   "id": "6dcf0a72",
   "metadata": {},
   "source": [
    "Classes\n",
    "- Favourable\n",
    "- Unfavourable"
   ]
  },
  {
   "cell_type": "markdown",
   "id": "fcebdffc",
   "metadata": {},
   "source": [
    "Get list of evidence rasters"
   ]
  },
  {
   "cell_type": "markdown",
   "id": "1b692cfc",
   "metadata": {},
   "source": [
    "Studentized t contrast"
   ]
  },
  {
   "cell_type": "markdown",
   "id": "adda7551",
   "metadata": {},
   "source": [
    "Clip and make rasters the same details"
   ]
  },
  {
   "cell_type": "markdown",
   "id": "7b1dea98",
   "metadata": {},
   "source": [
    "Rasterise training data"
   ]
  },
  {
   "cell_type": "markdown",
   "id": "48666a28",
   "metadata": {},
   "source": [
    "Get count of data and not - e.g 1s and 0s in raster"
   ]
  },
  {
   "cell_type": "markdown",
   "id": "24a8b9ee",
   "metadata": {},
   "source": [
    "Calculate weights\n",
    "#633"
   ]
  },
  {
   "cell_type": "markdown",
   "id": "3ceb7fcf",
   "metadata": {},
   "source": [
    "Input weights rasters"
   ]
  },
  {
   "cell_type": "markdown",
   "id": "99af2713",
   "metadata": {},
   "source": [
    "calculate bayesian probs\n",
    "#1590"
   ]
  },
  {
   "cell_type": "code",
   "execution_count": null,
   "id": "3f967256",
   "metadata": {},
   "outputs": [],
   "source": []
  }
 ],
 "metadata": {
  "kernelspec": {
   "display_name": "Python [conda env:pangeo] *",
   "language": "python",
   "name": "conda-env-pangeo-py"
  },
  "language_info": {
   "codemirror_mode": {
    "name": "ipython",
    "version": 3
   },
   "file_extension": ".py",
   "mimetype": "text/x-python",
   "name": "python",
   "nbconvert_exporter": "python",
   "pygments_lexer": "ipython3",
   "version": "3.9.16"
  }
 },
 "nbformat": 4,
 "nbformat_minor": 5
}
