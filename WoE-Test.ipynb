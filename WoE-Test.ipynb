{
 "cells": [
  {
   "cell_type": "code",
   "execution_count": 4,
   "id": "f336752a",
   "metadata": {},
   "outputs": [],
   "source": [
    "import os\n",
    "import rioxarray\n",
    "import xarray as xr\n",
    "import geopandas as gpd\n",
    "import pandas as pd\n",
    "import numpy as np\n",
    "import os.path\n",
    "from pathlib import Path\n",
    "import csv\n",
    "import math\n",
    "from osgeo import gdal, ogr, osr, gdalconst\n"
   ]
  },
  {
   "cell_type": "markdown",
   "id": "cebf371c",
   "metadata": {},
   "source": [
    "here's a starting point comparison https://github.com/chudasama-bijal/QGIS-Plugin-Weights-of-Evidence-Model"
   ]
  },
  {
   "cell_type": "markdown",
   "id": "2fed7951",
   "metadata": {},
   "source": [
    "Get training data vector data - 1s"
   ]
  },
  {
   "cell_type": "markdown",
   "id": "5decdc25",
   "metadata": {},
   "source": [
    "Choose mask layer if desired"
   ]
  },
  {
   "cell_type": "markdown",
   "id": "08d73970",
   "metadata": {},
   "source": [
    "Classes\n",
    "- Favourable\n",
    "- Unfavourable"
   ]
  },
  {
   "cell_type": "markdown",
   "id": "a91d7362",
   "metadata": {},
   "source": [
    "Get list of evidence rasters"
   ]
  },
  {
   "cell_type": "markdown",
   "id": "b3d55b56",
   "metadata": {},
   "source": [
    "Studentized t contrast"
   ]
  },
  {
   "cell_type": "markdown",
   "id": "87b1059d",
   "metadata": {},
   "source": [
    "Clip and make rasters the same details"
   ]
  },
  {
   "cell_type": "markdown",
   "id": "881a4897",
   "metadata": {},
   "source": [
    "Rasterise training data"
   ]
  },
  {
   "cell_type": "markdown",
   "id": "d1600591",
   "metadata": {},
   "source": [
    "Get count of data and not - e.g 1s and 0s in raster"
   ]
  },
  {
   "cell_type": "markdown",
   "id": "3ccf2185",
   "metadata": {},
   "source": [
    "Calculate weights\n",
    "#633"
   ]
  },
  {
   "cell_type": "markdown",
   "id": "0662716a",
   "metadata": {},
   "source": [
    "Input weights rasters"
   ]
  },
  {
   "cell_type": "code",
   "execution_count": null,
   "id": "8bd10b9e",
   "metadata": {},
   "outputs": [],
   "source": []
  }
 ],
 "metadata": {
  "kernelspec": {
   "display_name": "Python [conda env:pangeo] *",
   "language": "python",
   "name": "conda-env-pangeo-py"
  },
  "language_info": {
   "codemirror_mode": {
    "name": "ipython",
    "version": 3
   },
   "file_extension": ".py",
   "mimetype": "text/x-python",
   "name": "python",
   "nbconvert_exporter": "python",
   "pygments_lexer": "ipython3",
   "version": "3.9.16"
  }
 },
 "nbformat": 4,
 "nbformat_minor": 5
}
