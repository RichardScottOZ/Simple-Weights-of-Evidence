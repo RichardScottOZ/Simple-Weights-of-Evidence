{
 "cells": [
  {
   "cell_type": "code",
   "execution_count": 1,
   "id": "05436c3d",
   "metadata": {},
   "outputs": [],
   "source": [
    "import rioxarray\n",
    "import geopandas as gpd\n",
    "import pandas as pd"
   ]
  },
  {
   "cell_type": "markdown",
   "id": "d8792d1a",
   "metadata": {},
   "source": [
    "here's a starting point comparison https://github.com/chudasama-bijal/QGIS-Plugin-Weights-of-Evidence-Model"
   ]
  },
  {
   "cell_type": "code",
   "execution_count": null,
   "id": "b5d04dc2",
   "metadata": {},
   "outputs": [],
   "source": []
  }
 ],
 "metadata": {
  "kernelspec": {
   "display_name": "Python [conda env:pangeo] *",
   "language": "python",
   "name": "conda-env-pangeo-py"
  },
  "language_info": {
   "codemirror_mode": {
    "name": "ipython",
    "version": 3
   },
   "file_extension": ".py",
   "mimetype": "text/x-python",
   "name": "python",
   "nbconvert_exporter": "python",
   "pygments_lexer": "ipython3",
   "version": "3.9.16"
  }
 },
 "nbformat": 4,
 "nbformat_minor": 5
}
