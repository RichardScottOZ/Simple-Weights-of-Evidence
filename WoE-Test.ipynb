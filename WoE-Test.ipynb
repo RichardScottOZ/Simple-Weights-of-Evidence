{
 "cells": [
  {
   "cell_type": "code",
   "execution_count": 1,
   "id": "77a7f186",
   "metadata": {},
   "outputs": [],
   "source": [
    "import os\n",
    "import rioxarray\n",
    "import xarray as xr\n",
    "import geopandas as gpd\n",
    "import pandas as pd"
   ]
  },
  {
   "cell_type": "markdown",
   "id": "a5dd4933",
   "metadata": {},
   "source": [
    "here's a starting point comparison https://github.com/chudasama-bijal/QGIS-Plugin-Weights-of-Evidence-Model"
   ]
  },
  {
   "cell_type": "markdown",
   "id": "ab5c4eff",
   "metadata": {},
   "source": [
    "Get training data vector data - 1s"
   ]
  },
  {
   "cell_type": "markdown",
   "id": "0debb67c",
   "metadata": {},
   "source": [
    "Choose mask layer if desired"
   ]
  },
  {
   "cell_type": "markdown",
   "id": "4a3f140a",
   "metadata": {},
   "source": [
    "Classes\n",
    "- Favourable\n",
    "- Unfavourable"
   ]
  },
  {
   "cell_type": "markdown",
   "id": "7f9332cd",
   "metadata": {},
   "source": [
    "Get list of evidence rasters"
   ]
  },
  {
   "cell_type": "markdown",
   "id": "50129b76",
   "metadata": {},
   "source": [
    "Studentized t contrast"
   ]
  },
  {
   "cell_type": "code",
   "execution_count": null,
   "id": "f5b339b0",
   "metadata": {},
   "outputs": [],
   "source": [
    "Calculate weights\n",
    "#633"
   ]
  },
  {
   "cell_type": "markdown",
   "id": "19ae5849",
   "metadata": {},
   "source": [
    "Clip and make rasters the same details"
   ]
  },
  {
   "cell_type": "markdown",
   "id": "b06b8122",
   "metadata": {},
   "source": [
    "Rasterise training data"
   ]
  },
  {
   "cell_type": "markdown",
   "id": "3301395b",
   "metadata": {},
   "source": [
    "Get count of data and not - e.g 1s and 0s in raster"
   ]
  },
  {
   "cell_type": "code",
   "execution_count": null,
   "id": "29a43564",
   "metadata": {},
   "outputs": [],
   "source": []
  }
 ],
 "metadata": {
  "kernelspec": {
   "display_name": "Python [conda env:pangeo] *",
   "language": "python",
   "name": "conda-env-pangeo-py"
  },
  "language_info": {
   "codemirror_mode": {
    "name": "ipython",
    "version": 3
   },
   "file_extension": ".py",
   "mimetype": "text/x-python",
   "name": "python",
   "nbconvert_exporter": "python",
   "pygments_lexer": "ipython3",
   "version": "3.9.16"
  }
 },
 "nbformat": 4,
 "nbformat_minor": 5
}
