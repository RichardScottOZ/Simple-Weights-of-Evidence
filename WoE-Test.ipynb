{
 "cells": [
  {
   "cell_type": "code",
   "execution_count": 1,
   "id": "0611ec7c",
   "metadata": {},
   "outputs": [],
   "source": [
    "import rioxarray\n",
    "import geopandas as gpd\n",
    "import pandas as pd"
   ]
  },
  {
   "cell_type": "markdown",
   "id": "eb4a99a9",
   "metadata": {},
   "source": [
    "here's a starting point comparison https://github.com/chudasama-bijal/QGIS-Plugin-Weights-of-Evidence-Model"
   ]
  },
  {
   "cell_type": "code",
   "execution_count": null,
   "id": "ef4d9b2d",
   "metadata": {},
   "outputs": [],
   "source": [
    "C"
   ]
  },
  {
   "cell_type": "markdown",
   "id": "ef64e7f7",
   "metadata": {},
   "source": [
    "Get list of evidence rasters"
   ]
  },
  {
   "cell_type": "code",
   "execution_count": null,
   "id": "84a702f9",
   "metadata": {},
   "outputs": [],
   "source": []
  }
 ],
 "metadata": {
  "kernelspec": {
   "display_name": "Python [conda env:pangeo] *",
   "language": "python",
   "name": "conda-env-pangeo-py"
  },
  "language_info": {
   "codemirror_mode": {
    "name": "ipython",
    "version": 3
   },
   "file_extension": ".py",
   "mimetype": "text/x-python",
   "name": "python",
   "nbconvert_exporter": "python",
   "pygments_lexer": "ipython3",
   "version": "3.9.16"
  }
 },
 "nbformat": 4,
 "nbformat_minor": 5
}
