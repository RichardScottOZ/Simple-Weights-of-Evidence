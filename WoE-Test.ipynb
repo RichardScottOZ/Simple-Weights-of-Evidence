{
 "cells": [
  {
   "cell_type": "code",
   "execution_count": 4,
   "id": "f46bcdd7",
   "metadata": {},
   "outputs": [],
   "source": [
    "import os\n",
    "import rioxarray\n",
    "import xarray as xr\n",
    "import geopandas as gpd\n",
    "import pandas as pd\n",
    "import numpy as np\n",
    "import os.path\n",
    "from pathlib import Path\n",
    "import csv\n",
    "import math\n",
    "from osgeo import gdal, ogr, osr, gdalconst\n"
   ]
  },
  {
   "cell_type": "code",
   "execution_count": 1,
   "id": "4455f54a",
   "metadata": {},
   "outputs": [],
   "source": [
    "def tif_dict(strpath, masked=True, chunks=None, dsmatch=None):\n",
    "    \"\"\"\n",
    "    Walks a directory of geotiffs and returns a dictionary of rioxarray DataArrays\n",
    "    Args:\n",
    "        strpath: directory name\n",
    "        chunks: tuple of integers\n",
    "        dsmatch: data array to match the directory of raster to\n",
    "        masked: whether to mask by nodata, default is yes, pass masked=False if not desired\n",
    "    Returns:\n",
    "        a dictionary of rioxarrays\n",
    "        \n",
    "    Examples: \n",
    "       tif_dict(r'D:\\BananaSplits')\n",
    "       tif_dict(r'D:\\BananaSplits', chunk=s(1,1024,1024))\n",
    "    \n",
    "    \"\"\"\n",
    "\n",
    "    check_dict = {}\n",
    "    for root, dirs, files in os.walk(strpath):\n",
    "        for file in files:\n",
    "            if '.tif' in file and '.xml' not in file:\n",
    "                if dsmatch is None:\n",
    "                    if chunks is None:\n",
    "                        check_dict[file] = rioxarray.open_rasterio(os.path.join(root,file),masked=masked)    \n",
    "                    else:\n",
    "                        check_dict[file] = rioxarray.open_rasterio(os.path.join(root,file), masked=masked, chunks=chunks)    \n",
    "                else:\n",
    "                    if chunks is None:\n",
    "                        check_dict[file] = rioxarray.open_rasterio(os.path.join(root,file), masked=masked).rio.reproject_match(dsmatch)    \n",
    "                    else:\n",
    "                        check_dict[file] = rioxarray.open_rasterio(os.path.join(root,file), masked=masked, chunks=chunks).rio.reproject_match(dsmatch)    \n",
    "                \n",
    "    return check_dict\n"
   ]
  },
  {
   "cell_type": "markdown",
   "id": "46d3d4c9",
   "metadata": {},
   "source": [
    "A good comparison piece would be: https://search.geoscience.nsw.gov.au/product/9233/7564550 in the Curnamona"
   ]
  },
  {
   "cell_type": "markdown",
   "id": "a6458228",
   "metadata": {},
   "source": [
    "here's a starting point comparison https://github.com/chudasama-bijal/QGIS-Plugin-Weights-of-Evidence-Model"
   ]
  },
  {
   "cell_type": "markdown",
   "id": "022c08db",
   "metadata": {},
   "source": [
    "An R version - https://github.com/GeoscienceAustralia/MPM-WofE"
   ]
  },
  {
   "cell_type": "markdown",
   "id": "359810cd",
   "metadata": {},
   "source": [
    "Get training data vector data - 1s"
   ]
  },
  {
   "cell_type": "markdown",
   "id": "1b516452",
   "metadata": {},
   "source": [
    "Choose mask layer if desired"
   ]
  },
  {
   "cell_type": "markdown",
   "id": "4994bd42",
   "metadata": {},
   "source": [
    "Classes\n",
    "- Favourable\n",
    "- Unfavourable"
   ]
  },
  {
   "cell_type": "markdown",
   "id": "2b0b18de",
   "metadata": {},
   "source": [
    "Get list of evidence rasters"
   ]
  },
  {
   "cell_type": "markdown",
   "id": "b5678ee0",
   "metadata": {},
   "source": [
    "Studentized t contrast"
   ]
  },
  {
   "cell_type": "markdown",
   "id": "6785f775",
   "metadata": {},
   "source": [
    "Clip and make rasters the same details"
   ]
  },
  {
   "cell_type": "markdown",
   "id": "49a2e46e",
   "metadata": {},
   "source": [
    "Rasterise training data"
   ]
  },
  {
   "cell_type": "markdown",
   "id": "eb071832",
   "metadata": {},
   "source": [
    "Get count of data and not - e.g 1s and 0s in raster"
   ]
  },
  {
   "cell_type": "markdown",
   "id": "66feaa99",
   "metadata": {},
   "source": [
    "Calculate weights\n",
    "#633"
   ]
  },
  {
   "cell_type": "markdown",
   "id": "07674a33",
   "metadata": {},
   "source": [
    "Input weights rasters"
   ]
  },
  {
   "cell_type": "markdown",
   "id": "d1982fc7",
   "metadata": {},
   "source": [
    "calculate bayesian probs\n",
    "#1590"
   ]
  },
  {
   "cell_type": "code",
   "execution_count": 5,
   "id": "200e7461",
   "metadata": {},
   "outputs": [],
   "source": [
    "## so possible exercise - convert the R version to python, possibly with robot assistance\n",
    "## vectorize more in xarray"
   ]
  },
  {
   "cell_type": "markdown",
   "id": "a1754543",
   "metadata": {},
   "source": [
    "Borrow the test dataset from the Geoscience Australia example above by Arianne Ford"
   ]
  },
  {
   "cell_type": "code",
   "execution_count": null,
   "id": "4a509a5b",
   "metadata": {},
   "outputs": [],
   "source": []
  }
 ],
 "metadata": {
  "kernelspec": {
   "display_name": "Python [conda env:pangeo] *",
   "language": "python",
   "name": "conda-env-pangeo-py"
  },
  "language_info": {
   "codemirror_mode": {
    "name": "ipython",
    "version": 3
   },
   "file_extension": ".py",
   "mimetype": "text/x-python",
   "name": "python",
   "nbconvert_exporter": "python",
   "pygments_lexer": "ipython3",
   "version": "3.9.16"
  }
 },
 "nbformat": 4,
 "nbformat_minor": 5
}
