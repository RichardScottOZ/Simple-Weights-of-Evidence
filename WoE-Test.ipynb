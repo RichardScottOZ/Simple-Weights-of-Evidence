{
 "cells": [
  {
   "cell_type": "code",
   "execution_count": 1,
   "id": "7821909f",
   "metadata": {},
   "outputs": [],
   "source": [
    "import rioxarray\n",
    "import geopandas as gpd\n",
    "import pandas as pd"
   ]
  },
  {
   "cell_type": "markdown",
   "id": "27c1271b",
   "metadata": {},
   "source": [
    "here's a starting point comparison https://github.com/chudasama-bijal/QGIS-Plugin-Weights-of-Evidence-Model"
   ]
  },
  {
   "cell_type": "markdown",
   "id": "ed0ae49e",
   "metadata": {},
   "source": [
    "Get training data vector data - 1s"
   ]
  },
  {
   "cell_type": "markdown",
   "id": "df6d75e7",
   "metadata": {},
   "source": [
    "Choose mask layer if desired"
   ]
  },
  {
   "cell_type": "markdown",
   "id": "9d9c613c",
   "metadata": {},
   "source": [
    "Classes\n",
    "- Favourable\n",
    "- Unfavourable"
   ]
  },
  {
   "cell_type": "markdown",
   "id": "45c850e8",
   "metadata": {},
   "source": [
    "Get list of evidence rasters"
   ]
  },
  {
   "cell_type": "markdown",
   "id": "8a7f2e5a",
   "metadata": {},
   "source": [
    "Studentized t contrast"
   ]
  },
  {
   "cell_type": "markdown",
   "id": "c9010e3a",
   "metadata": {},
   "source": [
    "Calculate weights\n"
   ]
  },
  {
   "cell_type": "markdown",
   "id": "7ad04913",
   "metadata": {},
   "source": [
    "Clip and make rasters the same details"
   ]
  },
  {
   "cell_type": "markdown",
   "id": "87ac7825",
   "metadata": {},
   "source": [
    "Rasterise training data"
   ]
  },
  {
   "cell_type": "code",
   "execution_count": null,
   "id": "37ce5250",
   "metadata": {},
   "outputs": [],
   "source": []
  }
 ],
 "metadata": {
  "kernelspec": {
   "display_name": "Python [conda env:pangeo] *",
   "language": "python",
   "name": "conda-env-pangeo-py"
  },
  "language_info": {
   "codemirror_mode": {
    "name": "ipython",
    "version": 3
   },
   "file_extension": ".py",
   "mimetype": "text/x-python",
   "name": "python",
   "nbconvert_exporter": "python",
   "pygments_lexer": "ipython3",
   "version": "3.9.16"
  }
 },
 "nbformat": 4,
 "nbformat_minor": 5
}
