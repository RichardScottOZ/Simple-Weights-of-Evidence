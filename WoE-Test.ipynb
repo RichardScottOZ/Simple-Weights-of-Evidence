{
 "cells": [
  {
   "cell_type": "code",
   "execution_count": 3,
   "id": "cc51f2e4",
   "metadata": {},
   "outputs": [
    {
     "ename": "ModuleNotFoundError",
     "evalue": "No module named 'qgis'",
     "output_type": "error",
     "traceback": [
      "\u001b[1;31m---------------------------------------------------------------------------\u001b[0m",
      "\u001b[1;31mModuleNotFoundError\u001b[0m                       Traceback (most recent call last)",
      "Cell \u001b[1;32mIn[3], line 11\u001b[0m\n\u001b[0;32m      9\u001b[0m \u001b[38;5;28;01mimport\u001b[39;00m \u001b[38;5;21;01mcsv\u001b[39;00m\n\u001b[0;32m     10\u001b[0m \u001b[38;5;28;01mimport\u001b[39;00m \u001b[38;5;21;01mmath\u001b[39;00m\n\u001b[1;32m---> 11\u001b[0m \u001b[38;5;28;01mimport\u001b[39;00m \u001b[38;5;21;01mqgis\u001b[39;00m\n\u001b[0;32m     12\u001b[0m \u001b[38;5;28;01mimport\u001b[39;00m \u001b[38;5;21;01mprocessing\u001b[39;00m\n\u001b[0;32m     13\u001b[0m \u001b[38;5;28;01mfrom\u001b[39;00m \u001b[38;5;21;01mprocessing\u001b[39;00m\u001b[38;5;21;01m.\u001b[39;00m\u001b[38;5;21;01malgs\u001b[39;00m\u001b[38;5;21;01m.\u001b[39;00m\u001b[38;5;21;01mgdal\u001b[39;00m\u001b[38;5;21;01m.\u001b[39;00m\u001b[38;5;21;01mGdalUtils\u001b[39;00m \u001b[38;5;28;01mimport\u001b[39;00m GdalUtils\n",
      "\u001b[1;31mModuleNotFoundError\u001b[0m: No module named 'qgis'"
     ]
    }
   ],
   "source": [
    "import os\n",
    "import rioxarray\n",
    "import xarray as xr\n",
    "import geopandas as gpd\n",
    "import pandas as pd\n",
    "import numpy as np\n",
    "import os.path\n",
    "from pathlib import Path\n",
    "import csv\n",
    "import math\n",
    "import qgis\n",
    "import processing\n",
    "from processing.algs.gdal.GdalUtils import GdalUtils\n",
    "from osgeo import gdal, ogr, osr, gdalconst\n"
   ]
  },
  {
   "cell_type": "markdown",
   "id": "d6eac6a9",
   "metadata": {},
   "source": [
    "here's a starting point comparison https://github.com/chudasama-bijal/QGIS-Plugin-Weights-of-Evidence-Model"
   ]
  },
  {
   "cell_type": "markdown",
   "id": "e4920e17",
   "metadata": {},
   "source": [
    "Get training data vector data - 1s"
   ]
  },
  {
   "cell_type": "markdown",
   "id": "28131c75",
   "metadata": {},
   "source": [
    "Choose mask layer if desired"
   ]
  },
  {
   "cell_type": "markdown",
   "id": "7071d26c",
   "metadata": {},
   "source": [
    "Classes\n",
    "- Favourable\n",
    "- Unfavourable"
   ]
  },
  {
   "cell_type": "markdown",
   "id": "785ade06",
   "metadata": {},
   "source": [
    "Get list of evidence rasters"
   ]
  },
  {
   "cell_type": "markdown",
   "id": "7117729b",
   "metadata": {},
   "source": [
    "Studentized t contrast"
   ]
  },
  {
   "cell_type": "code",
   "execution_count": null,
   "id": "ece91714",
   "metadata": {},
   "outputs": [],
   "source": [
    "Calculate weights\n",
    "#633"
   ]
  },
  {
   "cell_type": "markdown",
   "id": "548bf3ed",
   "metadata": {},
   "source": [
    "Clip and make rasters the same details"
   ]
  },
  {
   "cell_type": "markdown",
   "id": "a2a5ec4b",
   "metadata": {},
   "source": [
    "Rasterise training data"
   ]
  },
  {
   "cell_type": "markdown",
   "id": "c63a2810",
   "metadata": {},
   "source": [
    "Get count of data and not - e.g 1s and 0s in raster"
   ]
  },
  {
   "cell_type": "code",
   "execution_count": null,
   "id": "48553e05",
   "metadata": {},
   "outputs": [],
   "source": []
  }
 ],
 "metadata": {
  "kernelspec": {
   "display_name": "Python [conda env:pangeo] *",
   "language": "python",
   "name": "conda-env-pangeo-py"
  },
  "language_info": {
   "codemirror_mode": {
    "name": "ipython",
    "version": 3
   },
   "file_extension": ".py",
   "mimetype": "text/x-python",
   "name": "python",
   "nbconvert_exporter": "python",
   "pygments_lexer": "ipython3",
   "version": "3.9.16"
  }
 },
 "nbformat": 4,
 "nbformat_minor": 5
}
